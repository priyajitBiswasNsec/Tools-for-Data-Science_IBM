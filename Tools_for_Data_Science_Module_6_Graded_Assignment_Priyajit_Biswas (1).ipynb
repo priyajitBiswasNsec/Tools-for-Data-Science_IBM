{
 "cells": [
  {
   "cell_type": "markdown",
   "metadata": {
    "id": "xLW7IVKnvi-7"
   },
   "source": [
    "**Tools for Data Science - Module 6 - Graded Assignment - Priyajit Biswas**"
   ]
  },
  {
   "cell_type": "markdown",
   "metadata": {
    "id": "KRyRu1WfvwDa"
   },
   "source": [
    "**Introduction** <br>\n",
    "This is my Grades Assignment"
   ]
  },
  {
   "cell_type": "markdown",
   "metadata": {
    "id": "6oWMCICZxRjQ"
   },
   "source": [
    " **List of data science languages** \n",
    "1.   Python \n",
    "2.   R \n",
    "3.   SQL \n",
    "4.   Scala \n",
    "5.   Java \n",
    "6.   C++ \n",
    "7.   Julia"
   ]
  },
  {
   "cell_type": "markdown",
   "metadata": {
    "id": "o_dJJMbSzNlz"
   },
   "source": [
    "**List of data science libraries** <br>\n",
    "1.   Pandas\n",
    "2.   NumPy\n",
    "3.   SciPy\n",
    "4.   Matplotlib\n"
   ]
  },
  {
   "cell_type": "markdown",
   "metadata": {
    "id": "zdVrYoQFz0cw"
   },
   "source": [
    "| **Table of Data Science tools** |\n",
    "|---|\n",
    "| Weka |\n",
    "| Java-ML |\n",
    "| Apache MLlib |\n",
    "| Deeplearning4L |\n"
   ]
  },
  {
   "cell_type": "markdown",
   "metadata": {
    "id": "mSfD7sBd0Wk9"
   },
   "source": [
    "**Introducing arithmetic expression examples**"
   ]
  },
  {
   "cell_type": "code",
   "execution_count": 3,
   "metadata": {
    "colab": {
     "base_uri": "https://localhost:8080/"
    },
    "id": "JynszO16vlyk",
    "outputId": "6af79144-5cb1-4059-b2d8-5368c600151c"
   },
   "outputs": [
    {
     "name": "stdout",
     "output_type": "stream",
     "text": [
      "4\n",
      "6\n"
     ]
    }
   ],
   "source": [
    "a = 2+2\n",
    "b = 3*2\n",
    "print(a)\n",
    "print(b)"
   ]
  },
  {
   "cell_type": "code",
   "execution_count": 5,
   "metadata": {
    "colab": {
     "base_uri": "https://localhost:8080/"
    },
    "id": "Th6lrr7x0z8Q",
    "outputId": "d98f3229-b664-4c0a-cf9e-90dafb42224f"
   },
   "outputs": [
    {
     "name": "stdout",
     "output_type": "stream",
     "text": [
      "2.6\n"
     ]
    }
   ],
   "source": [
    "minutes = 156\n",
    "hours =  minutes / 60\n",
    "print(hours)"
   ]
  },
  {
   "cell_type": "markdown",
   "metadata": {
    "id": "G9W3qVCZ1U4R"
   },
   "source": [
    " List of objectives <br>\n",
    " *   Item 1\n",
    "*   Item 2"
   ]
  },
  {
   "cell_type": "markdown",
   "metadata": {
    "id": "P_RZZGJp2YmR"
   },
   "source": [
    "Submitted by Priyajit Biswas"
   ]
  }
 ],
 "metadata": {
  "colab": {
   "provenance": []
  },
  "kernelspec": {
   "display_name": "Python 3",
   "name": "python3"
  },
  "language_info": {
   "name": "python"
  }
 },
 "nbformat": 4,
 "nbformat_minor": 0
}
