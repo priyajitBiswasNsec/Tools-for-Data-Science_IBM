{
  "nbformat": 4,
  "nbformat_minor": 0,
  "metadata": {
    "colab": {
      "provenance": []
    },
    "kernelspec": {
      "name": "python3",
      "display_name": "Python 3"
    },
    "language_info": {
      "name": "python"
    }
  },
  "cells": [
    {
      "cell_type": "markdown",
      "source": [
        "**Tools for Data Science - Module 6 - Graded Assignment - Priyajit Biswas**"
      ],
      "metadata": {
        "id": "xLW7IVKnvi-7"
      }
    },
    {
      "cell_type": "markdown",
      "source": [
        "**Introduction** \\\\\n",
        "This is my Grades Assignment"
      ],
      "metadata": {
        "id": "KRyRu1WfvwDa"
      }
    },
    {
      "cell_type": "markdown",
      "source": [
        " **List of data science languages** <br>\n",
        "Python <br>\n",
        "  R <br>\n",
        "  SQL <br>\n",
        "  Scala <br>\n",
        "  Java <br>\n",
        "  C++ <br>\n",
        " Julia"
      ],
      "metadata": {
        "id": "6oWMCICZxRjQ"
      }
    },
    {
      "cell_type": "markdown",
      "source": [
        "**List of data science libraries** <br>\n",
        "Pandas<br>NumPy<br>SciPy<br> Matplotlib\n"
      ],
      "metadata": {
        "id": "o_dJJMbSzNlz"
      }
    },
    {
      "cell_type": "markdown",
      "source": [
        "| **Table of Data Science tools** |\n",
        "|---|\n",
        "| Weka |\n",
        "| Java-ML |\n",
        "| Apache MLlib |\n",
        "| Deeplearning4L |\n"
      ],
      "metadata": {
        "id": "zdVrYoQFz0cw"
      }
    },
    {
      "cell_type": "markdown",
      "source": [
        "**Introducing arithmetic expression examples**"
      ],
      "metadata": {
        "id": "mSfD7sBd0Wk9"
      }
    },
    {
      "cell_type": "code",
      "source": [
        "a = 2+2\n",
        "b = 3*2\n",
        "print(a)\n",
        "print(b)"
      ],
      "metadata": {
        "id": "JynszO16vlyk",
        "colab": {
          "base_uri": "https://localhost:8080/"
        },
        "outputId": "6af79144-5cb1-4059-b2d8-5368c600151c"
      },
      "execution_count": 3,
      "outputs": [
        {
          "output_type": "stream",
          "name": "stdout",
          "text": [
            "4\n",
            "6\n"
          ]
        }
      ]
    },
    {
      "cell_type": "code",
      "source": [
        "minutes = 156\n",
        "hours =  minutes / 60\n",
        "print(hours)"
      ],
      "metadata": {
        "colab": {
          "base_uri": "https://localhost:8080/"
        },
        "id": "Th6lrr7x0z8Q",
        "outputId": "d98f3229-b664-4c0a-cf9e-90dafb42224f"
      },
      "execution_count": 5,
      "outputs": [
        {
          "output_type": "stream",
          "name": "stdout",
          "text": [
            "2.6\n"
          ]
        }
      ]
    },
    {
      "cell_type": "markdown",
      "source": [
        " List of objectives <br>\n",
        "\n",
        "\n",
        "\n",
        "\n",
        "<br>"
      ],
      "metadata": {
        "id": "G9W3qVCZ1U4R"
      }
    },
    {
      "cell_type": "markdown",
      "source": [
        "Submitted by Priyajit Biswas"
      ],
      "metadata": {
        "id": "P_RZZGJp2YmR"
      }
    }
  ]
}